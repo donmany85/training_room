{
  "metadata": {
    "kernelspec": {
      "display_name": "Python 3",
      "language": "python",
      "name": "python3"
    },
    "language_info": {
      "name": "python",
      "version": "3.6.5",
      "mimetype": "text/x-python",
      "codemirror_mode": {
        "name": "ipython",
        "version": 3
      },
      "pygments_lexer": "ipython3",
      "nbconvert_exporter": "python",
      "file_extension": ".py"
    },
    "colab": {
      "provenance": []
    }
  },
  "nbformat_minor": 0,
  "nbformat": 4,
  "cells": [
    {
      "cell_type": "markdown",
      "source": [
        "**1.1** Import main modules\n",
        "\n",
        "We will first import the main modules"
      ],
      "metadata": {
        "_uuid": "58ec9751dec71ea2ba432d2097868f6c27858b06",
        "id": "14_g14iKyQ5o"
      }
    },
    {
      "cell_type": "code",
      "source": [
        "import pandas as pd\n",
        "import numpy as np\n",
        "import datetime\n",
        "pd.options.display.max_columns = 100"
      ],
      "metadata": {
        "_uuid": "ba5d6cd8a20aef316d4ae20d55a2123df376262f",
        "collapsed": true,
        "jupyter": {
          "outputs_hidden": true
        },
        "trusted": true,
        "id": "W9M08SCYyQ5o"
      },
      "execution_count": null,
      "outputs": []
    },
    {
      "cell_type": "markdown",
      "source": [
        "**1.2**\tEstablish random data range (Policy Counts, Years, Dates)\n",
        "\n",
        "Now to set the breadth of data we are going to work with"
      ],
      "metadata": {
        "_uuid": "1ac35b1f8c9d795fe6b5d0c7bbc76f49bacf899d",
        "id": "4xsFIom0yQ5p"
      }
    },
    {
      "cell_type": "code",
      "source": [
        "\"\"\"Define parameters of data\"\"\"\n",
        "# Number of entries\n",
        "PolicyCount = 15000\n",
        "# 9-year period\n",
        "YearEndCap = 2017\n",
        "YearStartCap = 2007\n",
        "# Dates\n",
        "DateEndCap = datetime.date(YearEndCap, 12, 31)    # year, month, day\n",
        "DateStartCap = datetime.date(YearStartCap, 12, 31)  # year, month, day"
      ],
      "metadata": {
        "_uuid": "73839e69e485836bd23241b8ec25001afbc72160",
        "collapsed": true,
        "jupyter": {
          "outputs_hidden": true
        },
        "trusted": true,
        "id": "UAl3sJFxyQ5p"
      },
      "execution_count": null,
      "outputs": []
    },
    {
      "cell_type": "markdown",
      "source": [
        "**1.3** Other Assumptions"
      ],
      "metadata": {
        "_uuid": "5be7faaf48ccf74f6de7c58d28a5810b8b8ce531",
        "id": "u9iXCt_NyQ5q"
      }
    },
    {
      "cell_type": "markdown",
      "source": [
        "-No admin costs, claims paid in bulk on transaction date rather than multiple dates for those with multiple claims, ignoring earned gross premium calculations etc"
      ],
      "metadata": {
        "_uuid": "36cdd567180b86438755b6aafd6ac9fa02883e06",
        "id": "gb-6rB-eyQ5q"
      }
    },
    {
      "cell_type": "markdown",
      "source": [
        "* **2. Create Randomized Claims Data**\n",
        "\n",
        "Now we will use randomisation with probabilistic distributions to simulate some claims data. First we establish the initial data-frame."
      ],
      "metadata": {
        "_uuid": "50aaf9b0a36fff5038551104b849815358f0015b",
        "id": "OTol6kNZyQ5q"
      }
    },
    {
      "cell_type": "code",
      "source": [
        "\"\"\"Create Main DataFrame filled with NaN's\"\"\"\n",
        "# Establish initial data-frame\n",
        "columns_1 = ['Insured_ID', 'Insured_Date', 'Claims_Number', 'Claims_Amount', 'Transaction_Date',\n",
        "           'Insured_Year', 'Insured_Quarter',\n",
        "           'Transaction_Year', 'Transaction_Quarter']\n",
        "ClaimsData = pd.DataFrame(columns=columns_1)"
      ],
      "metadata": {
        "_uuid": "ef9a0bfd4d6e51b7e2980d6f877686794b4d99f9",
        "collapsed": true,
        "jupyter": {
          "outputs_hidden": true
        },
        "trusted": true,
        "id": "1II780EyyQ5q"
      },
      "execution_count": null,
      "outputs": []
    },
    {
      "cell_type": "markdown",
      "source": [
        "**2.1** Insured IDs\n",
        "\n",
        "This is just for labelling purposes to simulate some reality to this. Do note that I have hidden some outputs to neaten up this Kernel. *Unhide to view output"
      ],
      "metadata": {
        "_uuid": "ebd2156a7bfe779ac6ebd7eff8f5dc3e41b1a10d",
        "id": "vDucI44jyQ5q"
      }
    },
    {
      "cell_type": "code",
      "source": [
        "# Insured_ID's\n",
        "ClaimsData['Insured_ID'] = list(range(1, PolicyCount+1))\n",
        "print(ClaimsData['Insured_ID'])"
      ],
      "metadata": {
        "_uuid": "cb827155dc7b33fcd67a1109bee05d390a777198",
        "_kg_hide-output": true,
        "trusted": true,
        "id": "HEXC_biOyQ5r",
        "outputId": "a89dbc8d-b6d1-44b9-db96-74126bb1d1a6",
        "colab": {
          "base_uri": "https://localhost:8080/"
        }
      },
      "execution_count": null,
      "outputs": [
        {
          "output_type": "stream",
          "name": "stdout",
          "text": [
            "0            1\n",
            "1            2\n",
            "2            3\n",
            "3            4\n",
            "4            5\n",
            "         ...  \n",
            "14995    14996\n",
            "14996    14997\n",
            "14997    14998\n",
            "14998    14999\n",
            "14999    15000\n",
            "Name: Insured_ID, Length: 15000, dtype: int64\n"
          ]
        }
      ]
    },
    {
      "cell_type": "markdown",
      "source": [
        "**2.2** Insured Dates\n",
        "\n",
        "This is the date where the insured signs for their policy. Here we will use a random selection of dates between our date range. *Unhide to view output"
      ],
      "metadata": {
        "_uuid": "09ed87262b06837bdf00f2ed4814d98f75d964b0",
        "id": "IashuATqyQ5r"
      }
    },
    {
      "cell_type": "code",
      "source": [
        "# Insured_Date's\n",
        "# Random distribution\n",
        "import random\n",
        "for row in range(0, PolicyCount):\n",
        "    n_days = (DateEndCap-DateStartCap).days\n",
        "    random_days = random.randint(0, n_days-1)\n",
        "    Random_Insured_Date = DateStartCap + datetime.timedelta(days=1) + datetime.timedelta(days=random_days)\n",
        "    ClaimsData.loc[row, 'Insured_Date'] = Random_Insured_Date\n",
        "print(ClaimsData['Insured_Date'])"
      ],
      "metadata": {
        "_uuid": "fd30651260f04724bff7cbb8f39efe96c57d4c85",
        "_kg_hide-output": true,
        "_kg_hide-input": false,
        "trusted": true,
        "id": "1MgpzjOJyQ5r",
        "outputId": "b06db44e-1a82-4c82-a365-e3b41c449511",
        "colab": {
          "base_uri": "https://localhost:8080/"
        }
      },
      "execution_count": null,
      "outputs": [
        {
          "output_type": "stream",
          "name": "stdout",
          "text": [
            "0        2014-03-08\n",
            "1        2014-11-28\n",
            "2        2014-02-01\n",
            "3        2009-03-27\n",
            "4        2008-10-17\n",
            "            ...    \n",
            "14995    2014-08-11\n",
            "14996    2009-03-29\n",
            "14997    2016-10-08\n",
            "14998    2013-09-22\n",
            "14999    2008-07-30\n",
            "Name: Insured_Date, Length: 15000, dtype: object\n"
          ]
        }
      ]
    },
    {
      "cell_type": "markdown",
      "source": [
        "**2.3** Claims Numbers\n",
        "\n",
        "We will now simulate the claim numbers using randomised poisson distribution. In real world scenarios, this is the most common distribution for claim numbers. *Unhide to view output"
      ],
      "metadata": {
        "_uuid": "7cfb9f6257aebee46f2acccea98f403991d76681",
        "id": "9g5D66j5yQ5s"
      }
    },
    {
      "cell_type": "code",
      "source": [
        "# Claims_Number's\n",
        "# Poisson random distribution\n",
        "# Poisson parameters\n",
        "Lambda = 10\n",
        "Size = 1\n",
        "for row in range(0, PolicyCount):\n",
        "    ClaimCount = np.random.poisson(1, 1)\n",
        "    ClaimsData.loc[row, 'Claims_Number'] = ClaimCount\n",
        "\n",
        "# Remove the square brackets (i.e.a list within a list) by passing into a list & back into df again\n",
        "ClaimsData['Claims_Number'] = pd.DataFrame(ClaimsData['Claims_Number'].values.tolist())\n",
        "print(ClaimsData['Claims_Number'])"
      ],
      "metadata": {
        "_uuid": "eb2e0ba2453887ea3253dbf8542a2272598c828e",
        "_kg_hide-output": true,
        "trusted": true,
        "id": "3f-y75_XyQ5t",
        "outputId": "3e6abe96-5ad9-427e-da06-b46658852711",
        "colab": {
          "base_uri": "https://localhost:8080/"
        }
      },
      "execution_count": null,
      "outputs": [
        {
          "output_type": "stream",
          "name": "stdout",
          "text": [
            "0        0\n",
            "1        0\n",
            "2        1\n",
            "3        0\n",
            "4        1\n",
            "        ..\n",
            "14995    0\n",
            "14996    2\n",
            "14997    1\n",
            "14998    2\n",
            "14999    0\n",
            "Name: Claims_Number, Length: 15000, dtype: int64\n"
          ]
        }
      ]
    },
    {
      "cell_type": "markdown",
      "source": [
        "**2.4** Claim Amounts\n",
        "\n",
        "Similarly, for claim amounts we will also use randomisation but with Log Normal distribution instead. Do note that here we use a nested loop referncing code. Where if the random claim number was 0 we will have 0 claim amount. For cases without 0 random claim numbers, we will respectively generate and sum 'n' number of random Log Normal distributed claim amount. E.g. Claim Number 1 will have 1 random Log Normal distributed amount, Claim Number 2 will have the sum of 2 random Log Normal distributed amount etc.\n",
        "\n",
        "I have also included a spare repetitive Min Max function to simulate reinsurance if need. The code is a 'Do While' loop so as to not disrupt the distribution of claim amounts. But have excluded it in the case. \n",
        "\n",
        "*Unhide to view output"
      ],
      "metadata": {
        "_uuid": "8781fc8764d7d596aa50acb58f952d67a578a5d9",
        "id": "GPeoZfKDyQ5t"
      }
    },
    {
      "cell_type": "code",
      "source": [
        "\"\"\"Special Case if need to simulate claims amount minimum & maximum limit. E.g. Reinsurance cases XOL\"\"\"\n",
        "import random\n",
        "def trunc_amt(mu, sigma, bottom, top):\n",
        "    a = random.lognormal(mu,sigma)\n",
        "    while (bottom <= a <= top) == False:\n",
        "        a = random.lognormal(mu,sigma)\n",
        "    return a"
      ],
      "metadata": {
        "_uuid": "9d6ee560a400b252b599ded17d49d6f16efe3af5",
        "collapsed": true,
        "jupyter": {
          "outputs_hidden": true
        },
        "trusted": true,
        "id": "nhsg36VJyQ5u"
      },
      "execution_count": null,
      "outputs": []
    },
    {
      "cell_type": "code",
      "source": [
        "# Claims_Amount's\n",
        "# Gaussian random distribution\n",
        "# Gaussian parameters\n",
        "MeanClaimAmt = 10\n",
        "StdDevClaimAmt = 4\n",
        "for row in range(0, PolicyCount):\n",
        "    if ClaimsData.loc[row, 'Claims_Number'] == 0:\n",
        "        # Impute 0 so that ClaimAmount is 0\n",
        "        ClaimsData.loc[row, 'Claims_Amount'] = 0\n",
        "    else:\n",
        "        ClaimNumber = ClaimsData.loc[row, 'Claims_Number']\n",
        "        num = np.random.lognormal(MeanClaimAmt, StdDevClaimAmt, ClaimNumber).sum()\n",
        "        ClaimsData.loc[row, 'Claims_Amount'] = num\n",
        "\n",
        "# Remove the square brackets (i.e.a list within a list) by passing into a list & back into df again\n",
        "ClaimsData['Claims_Amount'] = pd.DataFrame(ClaimsData['Claims_Amount'].values.tolist())\n",
        "print(ClaimsData['Claims_Amount'])"
      ],
      "metadata": {
        "_uuid": "347a633d5db24a1b2abbf68d6280e42f2a38c51c",
        "_kg_hide-output": true,
        "trusted": true,
        "id": "c8ERZbB2yQ5u",
        "outputId": "bdf9c3a2-1491-4e7c-90a4-fbee52ff08ec",
        "colab": {
          "base_uri": "https://localhost:8080/"
        }
      },
      "execution_count": null,
      "outputs": [
        {
          "output_type": "stream",
          "name": "stdout",
          "text": [
            "0        0.000000e+00\n",
            "1        0.000000e+00\n",
            "2        1.366208e+04\n",
            "3        0.000000e+00\n",
            "4        1.625353e+06\n",
            "             ...     \n",
            "14995    0.000000e+00\n",
            "14996    4.249528e+05\n",
            "14997    3.787425e+04\n",
            "14998    2.931482e+05\n",
            "14999    0.000000e+00\n",
            "Name: Claims_Amount, Length: 15000, dtype: float64\n"
          ]
        }
      ]
    },
    {
      "cell_type": "markdown",
      "source": [
        "**2.5** Transaction Dates\n",
        "\n",
        "The transaction dates are the dates that the insurer paid to the insured for a claim made. Just as in claim amounts, we will do a nested loop referencing. Where if the claim number was 0 we will input Transaction Date as the Insured Date, to achieve a 0 lag year. While for cases without 0 as the claim numbers, we will generate a random date between the 'Insured Date' and the YearEndCap of out data range. *Unhide to view output"
      ],
      "metadata": {
        "_uuid": "2c39e66539fbde33da6b88737b49d4b8de2996c5",
        "id": "XR6XKqOeyQ5u"
      }
    },
    {
      "cell_type": "code",
      "source": [
        "# Transaction_Date's\n",
        "# Random distribution\n",
        "import random\n",
        "for row in range(0, PolicyCount):\n",
        "    DateStart = ClaimsData.loc[row, 'Insured_Date']\n",
        "    if ClaimsData.loc[row, 'Claims_Number'] == 0:\n",
        "        # Impute InsuredDate so that Lag(i.e.DevelopmentPeriod) will be 0\n",
        "        ClaimsData.loc[row, 'Transaction_Date'] = DateStart\n",
        "    elif (DateEndCap-DateStart).days <=0:\n",
        "        ClaimsData.loc[row, 'Transaction_Date'] = DateStart\n",
        "    else:\n",
        "        n_days = (DateEndCap-DateStart).days\n",
        "        random_days = random.randint(1, n_days) # Min 1 day to avoid conflict of zero days and no claims\n",
        "        Random_Transaction_Date = DateStart + datetime.timedelta(days=random_days)\n",
        "        ClaimsData.loc[row, 'Transaction_Date'] = Random_Transaction_Date\n",
        "print(ClaimsData['Transaction_Date'])"
      ],
      "metadata": {
        "_uuid": "f8adc08d5fbc1b632c333fca999c14eea876b0ca",
        "_kg_hide-output": true,
        "trusted": true,
        "id": "QiIr2RsryQ5u",
        "outputId": "b47b629b-eabf-4047-aa24-8a999e4b61ab",
        "colab": {
          "base_uri": "https://localhost:8080/"
        }
      },
      "execution_count": null,
      "outputs": [
        {
          "output_type": "stream",
          "name": "stdout",
          "text": [
            "0        2014-03-08\n",
            "1        2014-11-28\n",
            "2        2015-12-05\n",
            "3        2009-03-27\n",
            "4        2009-05-06\n",
            "            ...    \n",
            "14995    2014-08-11\n",
            "14996    2017-12-08\n",
            "14997    2017-04-22\n",
            "14998    2017-03-26\n",
            "14999    2008-07-30\n",
            "Name: Transaction_Date, Length: 15000, dtype: object\n"
          ]
        }
      ]
    },
    {
      "cell_type": "markdown",
      "source": [
        "* **3. Preview Raw Data (Part A)**"
      ],
      "metadata": {
        "_uuid": "172f6acb5f5faf8fe0f99717be94807d31649b73",
        "id": "F-A9qNw8yQ5v"
      }
    },
    {
      "cell_type": "markdown",
      "source": [
        "**3.1** Randomized Claims Data\n",
        "\n",
        "Now to preview our random data that we have improvised so far."
      ],
      "metadata": {
        "_uuid": "fef531f6e1db76bc2a8e3c3b80dffa5dd561b4bb",
        "id": "1_BwRTH6yQ5v"
      }
    },
    {
      "cell_type": "code",
      "source": [
        "display(ClaimsData.head(10))"
      ],
      "metadata": {
        "_uuid": "19c4992237733a9a617cd6f5c5f492ea05f400f2",
        "trusted": true,
        "id": "oBIseRQmyQ5v"
      },
      "execution_count": null,
      "outputs": []
    },
    {
      "cell_type": "markdown",
      "source": [
        "* **4. Preview Raw Data (Part A)**"
      ],
      "metadata": {
        "_uuid": "9e64acbe44dc25b3f4fd6b62ce1fb6aa98bd6099",
        "id": "1e3vxEsYyQ5v"
      }
    },
    {
      "cell_type": "markdown",
      "source": [
        "**4.1** Extract Years or Quarters (Depending on your choice of lag period)\n",
        "\n",
        "Now to prepare our calculation for the different development periods. I have chosen years as the development period here. You may use months alternatively. *Unhide to view output\n",
        "\n",
        "*Do note that I will use lag year synonymously with development year here."
      ],
      "metadata": {
        "_uuid": "0660bdff6623493bbaaf1b3f1ffe19de0e71b82c",
        "id": "hATuauwnyQ5v"
      }
    },
    {
      "cell_type": "code",
      "source": [
        "# Extract & Impute Date Components\n",
        "# Jan-Mar=1, Apr-Jun=2, July-Sep=3, Oct-Dec=4\n",
        "# Insured Year\n",
        "ClaimsData['Insured_Year'] = ClaimsData['Insured_Date'].apply(lambda x: x.year)\n",
        "ClaimsData['Transaction_Year'] = ClaimsData['Transaction_Date'].apply(lambda x: x.year)\n",
        "# Insured Month\n",
        "ClaimsData['Insured_Quarter'] = ClaimsData['Insured_Date'].apply(lambda x: x.month)\n",
        "ClaimsData['Transaction_Quarter'] = ClaimsData['Transaction_Date'].apply(lambda x: x.month)\n",
        "print(ClaimsData[['Insured_Date', 'Insured_Year', 'Transaction_Date', 'Transaction_Year']])"
      ],
      "metadata": {
        "_uuid": "32cc2ae74dce6aec37680ad4435fd54cabd1c5b5",
        "_kg_hide-output": true,
        "trusted": true,
        "id": "Tr650EN7yQ5v",
        "outputId": "aecd4985-7ee1-449c-fdee-d5b45b94cd94",
        "colab": {
          "base_uri": "https://localhost:8080/"
        }
      },
      "execution_count": null,
      "outputs": [
        {
          "output_type": "stream",
          "name": "stdout",
          "text": [
            "      Insured_Date  Insured_Year Transaction_Date  Transaction_Year\n",
            "0       2014-03-08          2014       2014-03-08              2014\n",
            "1       2014-11-28          2014       2014-11-28              2014\n",
            "2       2014-02-01          2014       2015-12-05              2015\n",
            "3       2009-03-27          2009       2009-03-27              2009\n",
            "4       2008-10-17          2008       2009-05-06              2009\n",
            "...            ...           ...              ...               ...\n",
            "14995   2014-08-11          2014       2014-08-11              2014\n",
            "14996   2009-03-29          2009       2017-12-08              2017\n",
            "14997   2016-10-08          2016       2017-04-22              2017\n",
            "14998   2013-09-22          2013       2017-03-26              2017\n",
            "14999   2008-07-30          2008       2008-07-30              2008\n",
            "\n",
            "[15000 rows x 4 columns]\n"
          ]
        }
      ]
    },
    {
      "cell_type": "markdown",
      "source": [
        "* **5. Calculations (Part A)**"
      ],
      "metadata": {
        "_uuid": "79d8d44db3305e418322c4a4f33f5b6b83f65ff6",
        "id": "jMF_0GSIyQ5w"
      }
    },
    {
      "cell_type": "markdown",
      "source": [
        "**5.1**\tYear Lags\n",
        "\n",
        "This is pretty straightforward where we simply take the difference between the \"Transaction year\" and the \"Insured year\" columns. In simple terms, the number of years between the insured seured the policy and when a claim was received. *Unhide to view output"
      ],
      "metadata": {
        "_uuid": "1cc7441c963c5e76a6f45991356e885da56882a7",
        "id": "tF2hy3z5yQ5w"
      }
    },
    {
      "cell_type": "code",
      "source": [
        "# Year ONLY lag\n",
        "ClaimsData['Year_Only_Lag'] = ClaimsData['Transaction_Year'] - ClaimsData['Insured_Year']\n",
        "print(ClaimsData)"
      ],
      "metadata": {
        "_uuid": "3671578172c17068b6759428ed836c0ca699899e",
        "_kg_hide-output": true,
        "trusted": true,
        "id": "j9CNvoZGyQ5w",
        "outputId": "e5799fa8-14b9-48d7-9bff-e103cd4f019f",
        "colab": {
          "base_uri": "https://localhost:8080/"
        }
      },
      "execution_count": null,
      "outputs": [
        {
          "output_type": "stream",
          "name": "stdout",
          "text": [
            "       Insured_ID Insured_Date  Claims_Number  Claims_Amount Transaction_Date  \\\n",
            "0               1   2014-03-08              0   0.000000e+00       2014-03-08   \n",
            "1               2   2014-11-28              0   0.000000e+00       2014-11-28   \n",
            "2               3   2014-02-01              1   1.366208e+04       2015-12-05   \n",
            "3               4   2009-03-27              0   0.000000e+00       2009-03-27   \n",
            "4               5   2008-10-17              1   1.625353e+06       2009-05-06   \n",
            "...           ...          ...            ...            ...              ...   \n",
            "14995       14996   2014-08-11              0   0.000000e+00       2014-08-11   \n",
            "14996       14997   2009-03-29              2   4.249528e+05       2017-12-08   \n",
            "14997       14998   2016-10-08              1   3.787425e+04       2017-04-22   \n",
            "14998       14999   2013-09-22              2   2.931482e+05       2017-03-26   \n",
            "14999       15000   2008-07-30              0   0.000000e+00       2008-07-30   \n",
            "\n",
            "       Insured_Year  Insured_Quarter  Transaction_Year  Transaction_Quarter  \\\n",
            "0              2014                3              2014                    3   \n",
            "1              2014               11              2014                   11   \n",
            "2              2014                2              2015                   12   \n",
            "3              2009                3              2009                    3   \n",
            "4              2008               10              2009                    5   \n",
            "...             ...              ...               ...                  ...   \n",
            "14995          2014                8              2014                    8   \n",
            "14996          2009                3              2017                   12   \n",
            "14997          2016               10              2017                    4   \n",
            "14998          2013                9              2017                    3   \n",
            "14999          2008                7              2008                    7   \n",
            "\n",
            "       Year_Only_Lag  \n",
            "0                  0  \n",
            "1                  0  \n",
            "2                  1  \n",
            "3                  0  \n",
            "4                  1  \n",
            "...              ...  \n",
            "14995              0  \n",
            "14996              8  \n",
            "14997              1  \n",
            "14998              4  \n",
            "14999              0  \n",
            "\n",
            "[15000 rows x 10 columns]\n"
          ]
        }
      ]
    },
    {
      "cell_type": "markdown",
      "source": [
        "**5.2**\tCompile Past Claims Data (Incremental  & Cumulative Amounts)\n",
        "\n",
        "Now to simply compile the claims data in a sorted format. Specifically, in a default ascending insured year and lag year order. This does help greatly in terms of indexing later on. *Unhide to view output\n",
        "\n",
        "Code Explanation-\n",
        "\n",
        "Incremental - We are using the \"Claim Amounts\" as the output column. We then set filtering rows (\"Insured year\") and columns (\"Lag year\"), as we want to see the aggregate for each combination of \"Insured year\" and \"Lag year\". The \"sum\" function acts as a the aggregate function. Subsequently, the \"reset_index\" function is used to force the data-frame to use the default numerical indexing for the leftmost column. We then assign this to a new data-frame \"py_data\"\n",
        "\n",
        "Cumulative - Just as before, we group the data-frame by the \"Insured year\" and output the corresponding \"Claim Amounts\". However, now we instead use the new data-frame \"py_data\" and we do not require the added columns \"Lag year\". In addition, we also now use the \"cumsum\" as a the aggregate function to derive the cumulative claim amounts for each."
      ],
      "metadata": {
        "_uuid": "57cb8066f3dc7a9ba319cf4e499c4464947b5347",
        "id": "_004HurNyQ5w"
      }
    },
    {
      "cell_type": "code",
      "source": [
        "# Compile Past Claims Data\n",
        "# Incremental Claims Amount\n",
        "py_data = ClaimsData['Claims_Amount'].groupby([ClaimsData['Insured_Year'], ClaimsData['Year_Only_Lag']]).sum().reset_index()\n",
        "# Convert into data-frame\n",
        "py_data = pd.DataFrame(py_data)\n",
        "# Cumulative Claims Amount\n",
        "py_data[\"cumsum\"] = py_data[\"Claims_Amount\"].groupby(py_data[\"Insured_Year\"]).cumsum()\n",
        "print(py_data)"
      ],
      "metadata": {
        "_uuid": "2d8de1a365e5dff44addac6670ddf33bd44f6df8",
        "_kg_hide-output": true,
        "trusted": true,
        "id": "5To217Q8yQ5w",
        "outputId": "61c00597-1273-428e-c1e7-a393c99b5449",
        "colab": {
          "base_uri": "https://localhost:8080/"
        }
      },
      "execution_count": null,
      "outputs": [
        {
          "output_type": "stream",
          "name": "stdout",
          "text": [
            "    Insured_Year  Year_Only_Lag  Claims_Amount        cumsum\n",
            "0           2008              0   5.693138e+08  5.693138e+08\n",
            "1           2008              1   5.032754e+08  1.072589e+09\n",
            "2           2008              2   1.118322e+09  2.190911e+09\n",
            "3           2008              3   6.433106e+08  2.834221e+09\n",
            "4           2008              4   4.086228e+08  3.242844e+09\n",
            "5           2008              5   3.803889e+09  7.046733e+09\n",
            "6           2008              6   1.570847e+09  8.617580e+09\n",
            "7           2008              7   1.757582e+09  1.037516e+10\n",
            "8           2008              8   4.205037e+08  1.079567e+10\n",
            "9           2008              9   2.715208e+09  1.351087e+10\n",
            "10          2009              0   5.182929e+08  5.182929e+08\n",
            "11          2009              1   1.936207e+10  1.988036e+10\n",
            "12          2009              2   6.250441e+09  2.613080e+10\n",
            "13          2009              3   2.921530e+09  2.905233e+10\n",
            "14          2009              4   6.522494e+09  3.557483e+10\n",
            "15          2009              5   6.039890e+09  4.161472e+10\n",
            "16          2009              6   5.886401e+08  4.220336e+10\n",
            "17          2009              7   2.875236e+09  4.507859e+10\n",
            "18          2009              8   3.742997e+09  4.882159e+10\n",
            "19          2010              0   7.477126e+08  7.477126e+08\n",
            "20          2010              1   5.123528e+09  5.871241e+09\n",
            "21          2010              2   4.609178e+09  1.048042e+10\n",
            "22          2010              3   6.073010e+08  1.108772e+10\n",
            "23          2010              4   2.588362e+09  1.367608e+10\n",
            "24          2010              5   2.461770e+09  1.613785e+10\n",
            "25          2010              6   9.283332e+08  1.706619e+10\n",
            "26          2010              7   5.339336e+10  7.045954e+10\n",
            "27          2011              0   2.589850e+08  2.589850e+08\n",
            "28          2011              1   2.833531e+09  3.092516e+09\n",
            "29          2011              2   1.801686e+09  4.894202e+09\n",
            "30          2011              3   1.777200e+09  6.671402e+09\n",
            "31          2011              4   4.931684e+09  1.160309e+10\n",
            "32          2011              5   3.006667e+09  1.460975e+10\n",
            "33          2011              6   2.050958e+09  1.666071e+10\n",
            "34          2012              0   1.849956e+09  1.849956e+09\n",
            "35          2012              1   1.585185e+10  1.770180e+10\n",
            "36          2012              2   2.534792e+09  2.023660e+10\n",
            "37          2012              3   2.625340e+09  2.286194e+10\n",
            "38          2012              4   1.249044e+10  3.535238e+10\n",
            "39          2012              5   7.972957e+09  4.332533e+10\n",
            "40          2013              0   2.168662e+09  2.168662e+09\n",
            "41          2013              1   2.906616e+09  5.075278e+09\n",
            "42          2013              2   7.000108e+09  1.207539e+10\n",
            "43          2013              3   3.335602e+09  1.541099e+10\n",
            "44          2013              4   1.385356e+09  1.679634e+10\n",
            "45          2014              0   3.845610e+09  3.845610e+09\n",
            "46          2014              1   1.246121e+10  1.630682e+10\n",
            "47          2014              2   3.338090e+09  1.964491e+10\n",
            "48          2014              3   5.906858e+10  7.871349e+10\n",
            "49          2015              0   2.010953e+09  2.010953e+09\n",
            "50          2015              1   9.716636e+09  1.172759e+10\n",
            "51          2015              2   2.167838e+10  3.340597e+10\n",
            "52          2016              0   7.835664e+09  7.835664e+09\n",
            "53          2016              1   7.678834e+09  1.551450e+10\n",
            "54          2017              0   3.132910e+10  3.132910e+10\n"
          ]
        }
      ]
    },
    {
      "cell_type": "markdown",
      "source": [
        "**Do note from this point onwards, we are dealing with Inflated Adjusted Chain Ladder (IACL) calculations. As mentioned before, I have separated the codings which are required for the IACL (with \"Inflated\" Headers) from those required for a basic chain ladder (with \"Non Inflated\" Headers)**"
      ],
      "metadata": {
        "_uuid": "ae7f26f12b47ceb080f41daf288b91214818e57e",
        "id": "jFWiMHXpyQ5w"
      }
    },
    {
      "cell_type": "markdown",
      "source": [
        "**5.3**\tEstablish Inflation Indexes\n",
        "\n",
        "For further real world simulation, we will now use the approximated past UK Inflation rates."
      ],
      "metadata": {
        "_uuid": "78fb1369e3cb0090c7e8b7c870e006fb835a56c2",
        "id": "bCUCraPnyQ5x"
      }
    },
    {
      "cell_type": "code",
      "source": [
        "# Establish Inflation Index\n",
        "# Create data-frame of Cumulative inflation rates\n",
        "columns_2 = ['Year', 'CumPastInflation']\n",
        "Inflation_df = pd.DataFrame(columns=columns_2)\n",
        "# Past Inflation Years\n",
        "Inflation_df['Year'] = [2008, 2009, 2010, 2011, 2012, 2013, 2014, 2015, 2016, 2017, 2018]\n",
        "# Past Inflation Index\n",
        "Inflation_df['CumPastInflation'] = [1.32, 1.27, 1.28, 1.22, 1.16, 1.12, 1.09, 1.07, 1.05, 1.04, 1.00]\n",
        "display(Inflation_df)"
      ],
      "metadata": {
        "_uuid": "1feb0cf461120e9a4d62bec7f51b82d8462a18b2",
        "trusted": true,
        "id": "5aplAKXvyQ5x",
        "outputId": "ee5e8bf0-3082-4ff4-b945-152be13d4e0f",
        "colab": {
          "base_uri": "https://localhost:8080/",
          "height": 394
        }
      },
      "execution_count": null,
      "outputs": [
        {
          "output_type": "display_data",
          "data": {
            "text/plain": [
              "    Year  CumPastInflation\n",
              "0   2008              1.32\n",
              "1   2009              1.27\n",
              "2   2010              1.28\n",
              "3   2011              1.22\n",
              "4   2012              1.16\n",
              "5   2013              1.12\n",
              "6   2014              1.09\n",
              "7   2015              1.07\n",
              "8   2016              1.05\n",
              "9   2017              1.04\n",
              "10  2018              1.00"
            ],
            "text/html": [
              "\n",
              "  <div id=\"df-48b405ba-ff39-4e0d-b3ca-b8a7de33e37b\">\n",
              "    <div class=\"colab-df-container\">\n",
              "      <div>\n",
              "<style scoped>\n",
              "    .dataframe tbody tr th:only-of-type {\n",
              "        vertical-align: middle;\n",
              "    }\n",
              "\n",
              "    .dataframe tbody tr th {\n",
              "        vertical-align: top;\n",
              "    }\n",
              "\n",
              "    .dataframe thead th {\n",
              "        text-align: right;\n",
              "    }\n",
              "</style>\n",
              "<table border=\"1\" class=\"dataframe\">\n",
              "  <thead>\n",
              "    <tr style=\"text-align: right;\">\n",
              "      <th></th>\n",
              "      <th>Year</th>\n",
              "      <th>CumPastInflation</th>\n",
              "    </tr>\n",
              "  </thead>\n",
              "  <tbody>\n",
              "    <tr>\n",
              "      <th>0</th>\n",
              "      <td>2008</td>\n",
              "      <td>1.32</td>\n",
              "    </tr>\n",
              "    <tr>\n",
              "      <th>1</th>\n",
              "      <td>2009</td>\n",
              "      <td>1.27</td>\n",
              "    </tr>\n",
              "    <tr>\n",
              "      <th>2</th>\n",
              "      <td>2010</td>\n",
              "      <td>1.28</td>\n",
              "    </tr>\n",
              "    <tr>\n",
              "      <th>3</th>\n",
              "      <td>2011</td>\n",
              "      <td>1.22</td>\n",
              "    </tr>\n",
              "    <tr>\n",
              "      <th>4</th>\n",
              "      <td>2012</td>\n",
              "      <td>1.16</td>\n",
              "    </tr>\n",
              "    <tr>\n",
              "      <th>5</th>\n",
              "      <td>2013</td>\n",
              "      <td>1.12</td>\n",
              "    </tr>\n",
              "    <tr>\n",
              "      <th>6</th>\n",
              "      <td>2014</td>\n",
              "      <td>1.09</td>\n",
              "    </tr>\n",
              "    <tr>\n",
              "      <th>7</th>\n",
              "      <td>2015</td>\n",
              "      <td>1.07</td>\n",
              "    </tr>\n",
              "    <tr>\n",
              "      <th>8</th>\n",
              "      <td>2016</td>\n",
              "      <td>1.05</td>\n",
              "    </tr>\n",
              "    <tr>\n",
              "      <th>9</th>\n",
              "      <td>2017</td>\n",
              "      <td>1.04</td>\n",
              "    </tr>\n",
              "    <tr>\n",
              "      <th>10</th>\n",
              "      <td>2018</td>\n",
              "      <td>1.00</td>\n",
              "    </tr>\n",
              "  </tbody>\n",
              "</table>\n",
              "</div>\n",
              "      <button class=\"colab-df-convert\" onclick=\"convertToInteractive('df-48b405ba-ff39-4e0d-b3ca-b8a7de33e37b')\"\n",
              "              title=\"Convert this dataframe to an interactive table.\"\n",
              "              style=\"display:none;\">\n",
              "        \n",
              "  <svg xmlns=\"http://www.w3.org/2000/svg\" height=\"24px\"viewBox=\"0 0 24 24\"\n",
              "       width=\"24px\">\n",
              "    <path d=\"M0 0h24v24H0V0z\" fill=\"none\"/>\n",
              "    <path d=\"M18.56 5.44l.94 2.06.94-2.06 2.06-.94-2.06-.94-.94-2.06-.94 2.06-2.06.94zm-11 1L8.5 8.5l.94-2.06 2.06-.94-2.06-.94L8.5 2.5l-.94 2.06-2.06.94zm10 10l.94 2.06.94-2.06 2.06-.94-2.06-.94-.94-2.06-.94 2.06-2.06.94z\"/><path d=\"M17.41 7.96l-1.37-1.37c-.4-.4-.92-.59-1.43-.59-.52 0-1.04.2-1.43.59L10.3 9.45l-7.72 7.72c-.78.78-.78 2.05 0 2.83L4 21.41c.39.39.9.59 1.41.59.51 0 1.02-.2 1.41-.59l7.78-7.78 2.81-2.81c.8-.78.8-2.07 0-2.86zM5.41 20L4 18.59l7.72-7.72 1.47 1.35L5.41 20z\"/>\n",
              "  </svg>\n",
              "      </button>\n",
              "      \n",
              "  <style>\n",
              "    .colab-df-container {\n",
              "      display:flex;\n",
              "      flex-wrap:wrap;\n",
              "      gap: 12px;\n",
              "    }\n",
              "\n",
              "    .colab-df-convert {\n",
              "      background-color: #E8F0FE;\n",
              "      border: none;\n",
              "      border-radius: 50%;\n",
              "      cursor: pointer;\n",
              "      display: none;\n",
              "      fill: #1967D2;\n",
              "      height: 32px;\n",
              "      padding: 0 0 0 0;\n",
              "      width: 32px;\n",
              "    }\n",
              "\n",
              "    .colab-df-convert:hover {\n",
              "      background-color: #E2EBFA;\n",
              "      box-shadow: 0px 1px 2px rgba(60, 64, 67, 0.3), 0px 1px 3px 1px rgba(60, 64, 67, 0.15);\n",
              "      fill: #174EA6;\n",
              "    }\n",
              "\n",
              "    [theme=dark] .colab-df-convert {\n",
              "      background-color: #3B4455;\n",
              "      fill: #D2E3FC;\n",
              "    }\n",
              "\n",
              "    [theme=dark] .colab-df-convert:hover {\n",
              "      background-color: #434B5C;\n",
              "      box-shadow: 0px 1px 3px 1px rgba(0, 0, 0, 0.15);\n",
              "      filter: drop-shadow(0px 1px 2px rgba(0, 0, 0, 0.3));\n",
              "      fill: #FFFFFF;\n",
              "    }\n",
              "  </style>\n",
              "\n",
              "      <script>\n",
              "        const buttonEl =\n",
              "          document.querySelector('#df-48b405ba-ff39-4e0d-b3ca-b8a7de33e37b button.colab-df-convert');\n",
              "        buttonEl.style.display =\n",
              "          google.colab.kernel.accessAllowed ? 'block' : 'none';\n",
              "\n",
              "        async function convertToInteractive(key) {\n",
              "          const element = document.querySelector('#df-48b405ba-ff39-4e0d-b3ca-b8a7de33e37b');\n",
              "          const dataTable =\n",
              "            await google.colab.kernel.invokeFunction('convertToInteractive',\n",
              "                                                     [key], {});\n",
              "          if (!dataTable) return;\n",
              "\n",
              "          const docLinkHtml = 'Like what you see? Visit the ' +\n",
              "            '<a target=\"_blank\" href=https://colab.research.google.com/notebooks/data_table.ipynb>data table notebook</a>'\n",
              "            + ' to learn more about interactive tables.';\n",
              "          element.innerHTML = '';\n",
              "          dataTable['output_type'] = 'display_data';\n",
              "          await google.colab.output.renderOutput(dataTable, element);\n",
              "          const docLink = document.createElement('div');\n",
              "          docLink.innerHTML = docLinkHtml;\n",
              "          element.appendChild(docLink);\n",
              "        }\n",
              "      </script>\n",
              "    </div>\n",
              "  </div>\n",
              "  "
            ]
          },
          "metadata": {}
        }
      ]
    },
    {
      "cell_type": "markdown",
      "source": [
        "**5.4**\tUplift (Past Inflation) Incremental Amounts\n",
        "\n",
        "Here we will account for past inflation for the incremental amounts, NOT the cumulative amounts.  *Unhide to view output\n",
        "\n",
        "Code Explanation-\n",
        "\n",
        "Here for each incremental claim amount, we continually iterate through the \"inflation_df\" to derive the corresponding inflation year and indexes and subsequently uplift the amount.\n",
        "\n",
        "Just as before we will first set the inflated incremental amounts equal to the non-inflated for easy referencing.\n",
        "\n",
        "The code executes 2 nested loops. The first loop is for each incremental claim amount in the \"py_data\" data-frame, while the second loop is for the each inflation year and inflation index in the \"inflation_df\" data-frame.\n",
        "\n",
        "In the first loop, for each incremental claim amount in the \"py_data\" data-frame, we establish the \"Insured Year\", \"Lag Year\" and \"Transaction year\" (or \"Insured Year\" plus \"Lag Year\").\n",
        "\n",
        "With this ongoing first loop, we then have a second loop to iterate through the \"inflation_df\" data-frame and establish the \"inflation year\". While iterating the \"inflation_df\", we set a conditional that upon reaching a equilibrium point where the respective claim amounts year of valuation (or \"Transaction Year\") is equal to the inflation year we will execute the proceeding uplift calculation below.  \n",
        "\n",
        "We will now determine the corresponding \"Transaction year\" and year-end-cap inflation cumulative index. Finally, divide the latter by the former and multiply it to uplift the incremental claims amount. Note that we divide here as this is a cumulative index. \n",
        "\n",
        "Consequently, now we have nominal incremental claims amount with valuation as at the year-end-cap.\n",
        "\n",
        "For cases where we do not reach the equilibrium point, we will simply do nothing. Hence, the value remains."
      ],
      "metadata": {
        "_uuid": "63224f750256414e6afe165529ec4e916b9e2592",
        "id": "OT2Hecp9yQ5x"
      }
    },
    {
      "cell_type": "code",
      "source": [
        "# Uplift (Past Inflation) for Incremental Claims\n",
        "py_data['Inflated_Claims_Amount'] = py_data['Claims_Amount']\n",
        "\n",
        "for row in range(0, len(py_data['Insured_Year'])):\n",
        "    InsuredYear = py_data.loc[row,'Insured_Year']\n",
        "    LagYear = py_data.loc[row,'Year_Only_Lag']\n",
        "    TransactionYear = InsuredYear + LagYear\n",
        "    for year in range(0, len(Inflation_df['Year'])):\n",
        "        CurrentYearInflation = Inflation_df.loc[year,'Year']\n",
        "        if  CurrentYearInflation == InsuredYear:\n",
        "            CurrentYearPerc = Inflation_df.loc[Inflation_df['Year'] == TransactionYear,'CumPastInflation']\n",
        "            ToYearPerc = Inflation_df.loc[Inflation_df['Year']==YearEndCap,'CumPastInflation'].values[0]\n",
        "            Uplift = ToYearPerc / CurrentYearPerc\n",
        "            py_data['Inflated_Claims_Amount'][row] = py_data['Inflated_Claims_Amount'][row]*Uplift\n",
        "        else:\n",
        "             py_data['Inflated_Claims_Amount'][row] = py_data['Inflated_Claims_Amount'][row]\n",
        "\n",
        "print(py_data)"
      ],
      "metadata": {
        "_uuid": "f0a155b902b76ad978441f078e60f5e79a56bf6b",
        "_kg_hide-output": true,
        "trusted": true,
        "id": "7O_IwQSPyQ5x",
        "outputId": "921140cb-9268-499d-e397-2d3ad5c6f59a",
        "colab": {
          "base_uri": "https://localhost:8080/"
        }
      },
      "execution_count": null,
      "outputs": [
        {
          "output_type": "stream",
          "name": "stdout",
          "text": [
            "    Insured_Year  Year_Only_Lag  Claims_Amount        cumsum  \\\n",
            "0           2008              0   5.693138e+08  5.693138e+08   \n",
            "1           2008              1   5.032754e+08  1.072589e+09   \n",
            "2           2008              2   1.118322e+09  2.190911e+09   \n",
            "3           2008              3   6.433106e+08  2.834221e+09   \n",
            "4           2008              4   4.086228e+08  3.242844e+09   \n",
            "5           2008              5   3.803889e+09  7.046733e+09   \n",
            "6           2008              6   1.570847e+09  8.617580e+09   \n",
            "7           2008              7   1.757582e+09  1.037516e+10   \n",
            "8           2008              8   4.205037e+08  1.079567e+10   \n",
            "9           2008              9   2.715208e+09  1.351087e+10   \n",
            "10          2009              0   5.182929e+08  5.182929e+08   \n",
            "11          2009              1   1.936207e+10  1.988036e+10   \n",
            "12          2009              2   6.250441e+09  2.613080e+10   \n",
            "13          2009              3   2.921530e+09  2.905233e+10   \n",
            "14          2009              4   6.522494e+09  3.557483e+10   \n",
            "15          2009              5   6.039890e+09  4.161472e+10   \n",
            "16          2009              6   5.886401e+08  4.220336e+10   \n",
            "17          2009              7   2.875236e+09  4.507859e+10   \n",
            "18          2009              8   3.742997e+09  4.882159e+10   \n",
            "19          2010              0   7.477126e+08  7.477126e+08   \n",
            "20          2010              1   5.123528e+09  5.871241e+09   \n",
            "21          2010              2   4.609178e+09  1.048042e+10   \n",
            "22          2010              3   6.073010e+08  1.108772e+10   \n",
            "23          2010              4   2.588362e+09  1.367608e+10   \n",
            "24          2010              5   2.461770e+09  1.613785e+10   \n",
            "25          2010              6   9.283332e+08  1.706619e+10   \n",
            "26          2010              7   5.339336e+10  7.045954e+10   \n",
            "27          2011              0   2.589850e+08  2.589850e+08   \n",
            "28          2011              1   2.833531e+09  3.092516e+09   \n",
            "29          2011              2   1.801686e+09  4.894202e+09   \n",
            "30          2011              3   1.777200e+09  6.671402e+09   \n",
            "31          2011              4   4.931684e+09  1.160309e+10   \n",
            "32          2011              5   3.006667e+09  1.460975e+10   \n",
            "33          2011              6   2.050958e+09  1.666071e+10   \n",
            "34          2012              0   1.849956e+09  1.849956e+09   \n",
            "35          2012              1   1.585185e+10  1.770180e+10   \n",
            "36          2012              2   2.534792e+09  2.023660e+10   \n",
            "37          2012              3   2.625340e+09  2.286194e+10   \n",
            "38          2012              4   1.249044e+10  3.535238e+10   \n",
            "39          2012              5   7.972957e+09  4.332533e+10   \n",
            "40          2013              0   2.168662e+09  2.168662e+09   \n",
            "41          2013              1   2.906616e+09  5.075278e+09   \n",
            "42          2013              2   7.000108e+09  1.207539e+10   \n",
            "43          2013              3   3.335602e+09  1.541099e+10   \n",
            "44          2013              4   1.385356e+09  1.679634e+10   \n",
            "45          2014              0   3.845610e+09  3.845610e+09   \n",
            "46          2014              1   1.246121e+10  1.630682e+10   \n",
            "47          2014              2   3.338090e+09  1.964491e+10   \n",
            "48          2014              3   5.906858e+10  7.871349e+10   \n",
            "49          2015              0   2.010953e+09  2.010953e+09   \n",
            "50          2015              1   9.716636e+09  1.172759e+10   \n",
            "51          2015              2   2.167838e+10  3.340597e+10   \n",
            "52          2016              0   7.835664e+09  7.835664e+09   \n",
            "53          2016              1   7.678834e+09  1.551450e+10   \n",
            "54          2017              0   3.132910e+10  3.132910e+10   \n",
            "\n",
            "    Inflated_Claims_Amount  \n",
            "0             4.485503e+08  \n",
            "1             4.121310e+08  \n",
            "2             9.086363e+08  \n",
            "3             5.483959e+08  \n",
            "4             3.663514e+08  \n",
            "5             3.532183e+09  \n",
            "6             1.498790e+09  \n",
            "7             1.708304e+09  \n",
            "8             4.164989e+08  \n",
            "9             2.715208e+09  \n",
            "10            4.244288e+08  \n",
            "11            1.573168e+10  \n",
            "12            5.328245e+09  \n",
            "13            2.619302e+09  \n",
            "14            6.056601e+09  \n",
            "15            5.762831e+09  \n",
            "16            5.721362e+08  \n",
            "17            2.847853e+09  \n",
            "18            3.742997e+09  \n",
            "19            6.075165e+08  \n",
            "20            4.367598e+09  \n",
            "21            4.132366e+09  \n",
            "22            5.639223e+08  \n",
            "23            2.469630e+09  \n",
            "24            2.392749e+09  \n",
            "25            9.194920e+08  \n",
            "26            5.339336e+10  \n",
            "27            2.207741e+08  \n",
            "28            2.540407e+09  \n",
            "29            1.672994e+09  \n",
            "30            1.695677e+09  \n",
            "31            4.793412e+09  \n",
            "32            2.978033e+09  \n",
            "33            2.050958e+09  \n",
            "34            1.658581e+09  \n",
            "35            1.471957e+10  \n",
            "36            2.418517e+09  \n",
            "37            2.551732e+09  \n",
            "38            1.237148e+10  \n",
            "39            7.972957e+09  \n",
            "40            2.013758e+09  \n",
            "41            2.773285e+09  \n",
            "42            6.803843e+09  \n",
            "43            3.303835e+09  \n",
            "44            1.385356e+09  \n",
            "45            3.669206e+09  \n",
            "46            1.211183e+10  \n",
            "47            3.306299e+09  \n",
            "48            5.906858e+10  \n",
            "49            1.954572e+09  \n",
            "50            9.624096e+09  \n",
            "51            2.167838e+10  \n",
            "52            7.761038e+09  \n",
            "53            7.678834e+09  \n",
            "54            3.132910e+10  \n"
          ]
        },
        {
          "output_type": "stream",
          "name": "stderr",
          "text": [
            "<ipython-input-14-cf3fa23decde>:14: SettingWithCopyWarning: \n",
            "A value is trying to be set on a copy of a slice from a DataFrame\n",
            "\n",
            "See the caveats in the documentation: https://pandas.pydata.org/pandas-docs/stable/user_guide/indexing.html#returning-a-view-versus-a-copy\n",
            "  py_data['Inflated_Claims_Amount'][row] = py_data['Inflated_Claims_Amount'][row]*Uplift\n",
            "<ipython-input-14-cf3fa23decde>:16: SettingWithCopyWarning: \n",
            "A value is trying to be set on a copy of a slice from a DataFrame\n",
            "\n",
            "See the caveats in the documentation: https://pandas.pydata.org/pandas-docs/stable/user_guide/indexing.html#returning-a-view-versus-a-copy\n",
            "  py_data['Inflated_Claims_Amount'][row] = py_data['Inflated_Claims_Amount'][row]\n"
          ]
        }
      ]
    },
    {
      "cell_type": "markdown",
      "source": [
        "**5.5**\tDerive corresponding uplifted Cumulative Amounts\n",
        "\n",
        "Now we simply use the 'cumsum' function to derive the corresponding inflated cumulative amounts."
      ],
      "metadata": {
        "_uuid": "3e57845ab3e4b71497c7059036adde53e86b45f5",
        "id": "TBgXb4kuyQ51"
      }
    },
    {
      "cell_type": "code",
      "source": [
        "# Get Uplift (Past Inflation) Cumulative Claims\n",
        "py_data['Inflated_cumsum'] = py_data['Inflated_Claims_Amount'].groupby(py_data['Insured_Year']).cumsum()"
      ],
      "metadata": {
        "_uuid": "8497e98464904fefe66c06b7004422c0eb31ba96",
        "collapsed": true,
        "jupyter": {
          "outputs_hidden": true
        },
        "trusted": true,
        "id": "GIKQDT4qyQ51"
      },
      "execution_count": null,
      "outputs": []
    },
    {
      "cell_type": "markdown",
      "source": [
        "**5.6**\tIndividual Loss Development Factors\n",
        "\n",
        "Here we will now calculate each development factor (the multiple that resulted in the subsequent years cumulative claim amount) for each insured year. Reason being the IACL underlying assumption is that historical claim trends will follow suit. *Unhide to view output\n",
        "\n",
        "Code Explanation-\n",
        "\n",
        "For each row in the \"py_data\" data-frame, we will retrieve the respective \"Insured year\", \"Lag year\", \"Transaction year\" and \"Current cumulative claims amount\".\n",
        "\n",
        "Subsequently, impose a dual 'either or' condition where if the \"Transaction year\" exceeds the year-end-cap or does not have a proceeding cumulative amount in the next \"Lag year\" we will have a zero LDF. Reason being this falls into the predicted year range which exceeds our past data range.\n",
        "\n",
        "Correspondingly, upon not meeting this condition we will derive the \"Next cumulative claims amount\". We do this by simply looking up the same \"Insured year\" but adding 1 to the current \"Lag year\" (\"Lag year\" plus one).\n",
        "\n",
        "Finally, we divide the \"Next cumulative claims amount\" by the \"Current cumulative claims amount\" to derive the individual LDF and impute it."
      ],
      "metadata": {
        "_uuid": "e92c9043d2b57cff1456ee0729eb71b06c7de911",
        "id": "MIn3ujfJyQ51"
      }
    },
    {
      "cell_type": "code",
      "source": [
        "# Inflated\n",
        "py_data['Inflated_LossDF'] = 1\n",
        "\n",
        "for row in range(0, len(py_data['Insured_Year'])):\n",
        "    InsuredYear = py_data.loc[row, 'Insured_Year']\n",
        "    LagYr = py_data.loc[row, 'Year_Only_Lag']\n",
        "    CurrentYear = py_data.loc[row, 'Insured_Year'] + py_data.loc[row, 'Year_Only_Lag']\n",
        "    CurrCumAmt = py_data.loc[row, 'Inflated_cumsum']\n",
        "\n",
        "    if CurrentYear > YearEndCap or len(py_data.loc[(py_data['Insured_Year'] == InsuredYear) & (\n",
        "            py_data['Year_Only_Lag'] == (LagYr + 1)), 'Inflated_cumsum']) == 0:\n",
        "        NextCumAmt = 0\n",
        "    else:\n",
        "        NextCumAmt = py_data.loc[(py_data['Insured_Year'] == InsuredYear) & (\n",
        "                    py_data['Year_Only_Lag'] == (LagYr + 1)), 'Inflated_cumsum'].values[0]\n",
        "\n",
        "    LDF = NextCumAmt / CurrCumAmt\n",
        "    py_data.loc[row, 'Inflated_LossDF'] = LDF\n",
        "\n",
        "print(py_data['Inflated_LossDF'])"
      ],
      "metadata": {
        "_uuid": "e17cf0944c7b0ed74cb612083364cf9c6b88144d",
        "_kg_hide-output": true,
        "trusted": true,
        "id": "8tStZamTyQ51",
        "outputId": "8da01301-cb22-4293-a988-b90f4bef57f9",
        "colab": {
          "base_uri": "https://localhost:8080/"
        }
      },
      "execution_count": null,
      "outputs": [
        {
          "output_type": "stream",
          "name": "stdout",
          "text": [
            "0      1.918807\n",
            "1      2.055717\n",
            "2      1.309948\n",
            "3      1.158066\n",
            "4      2.315983\n",
            "5      1.241108\n",
            "6      1.221425\n",
            "7      1.044199\n",
            "8      1.275940\n",
            "9      0.000000\n",
            "10    38.065535\n",
            "11     1.329797\n",
            "12     1.121917\n",
            "13     1.251273\n",
            "14     1.191074\n",
            "15     1.015927\n",
            "16     1.078034\n",
            "17     1.095137\n",
            "18     0.000000\n",
            "19     8.189267\n",
            "20     1.830607\n",
            "21     1.061919\n",
            "22     1.255354\n",
            "23     1.197079\n",
            "24     1.063266\n",
            "25     4.455149\n",
            "26     0.000000\n",
            "27    12.506815\n",
            "28     1.605898\n",
            "29     1.382411\n",
            "30     1.781978\n",
            "31     1.272632\n",
            "32     1.147537\n",
            "33     0.000000\n",
            "34     9.874797\n",
            "35     1.147667\n",
            "36     1.135754\n",
            "37     1.579504\n",
            "38     1.236447\n",
            "39     0.000000\n",
            "40     2.377169\n",
            "41     2.421304\n",
            "42     1.285037\n",
            "43     1.093010\n",
            "44     0.000000\n",
            "45     4.300941\n",
            "46     1.209511\n",
            "47     4.094648\n",
            "48     0.000000\n",
            "49     5.923891\n",
            "50     2.872269\n",
            "51     0.000000\n",
            "52     1.989408\n",
            "53     0.000000\n",
            "54     0.000000\n",
            "Name: Inflated_LossDF, dtype: float64\n"
          ]
        }
      ]
    },
    {
      "cell_type": "code",
      "source": [
        "# Non Inflated\n",
        "py_data['LossDF'] = 1\n",
        "\n",
        "for row in range(0, len(py_data['Insured_Year'])):\n",
        "    InsuredYear = py_data.loc[row, 'Insured_Year']\n",
        "    LagYr = py_data.loc[row, 'Year_Only_Lag']\n",
        "    CurrentYear = py_data.loc[row, 'Insured_Year'] + py_data.loc[row, 'Year_Only_Lag']\n",
        "    CurrCumAmt = py_data.loc[row, 'cumsum']\n",
        "\n",
        "    if CurrentYear > YearEndCap or len(py_data.loc[(py_data['Insured_Year'] == InsuredYear) & (\n",
        "            py_data['Year_Only_Lag'] == (LagYr + 1)), 'cumsum']) == 0:\n",
        "        NextCumAmt = 0\n",
        "    else:\n",
        "        # .values[0] code to output only values and not entire row\n",
        "        NextCumAmt = py_data.loc[\n",
        "            (py_data['Insured_Year'] == InsuredYear) & (py_data['Year_Only_Lag'] == (LagYr + 1)), 'cumsum'].values[0]\n",
        "\n",
        "    LDF = NextCumAmt / CurrCumAmt\n",
        "    py_data.loc[row, 'LossDF'] = LDF\n",
        "\n",
        "print(py_data['LossDF'])"
      ],
      "metadata": {
        "_uuid": "41361a15e241237cca0cd75f77ece75b5cd4dc04",
        "_kg_hide-output": true,
        "trusted": true,
        "id": "nQY5veOiyQ52",
        "outputId": "3c66851a-3f3f-44db-a164-8d9127b1adc7",
        "colab": {
          "base_uri": "https://localhost:8080/"
        }
      },
      "execution_count": null,
      "outputs": [
        {
          "output_type": "stream",
          "name": "stdout",
          "text": [
            "0      1.884004\n",
            "1      2.042637\n",
            "2      1.293627\n",
            "3      1.144175\n",
            "4      2.173010\n",
            "5      1.222918\n",
            "6      1.203953\n",
            "7      1.040530\n",
            "8      1.251509\n",
            "9      0.000000\n",
            "10    38.357389\n",
            "11     1.314403\n",
            "12     1.111804\n",
            "13     1.224508\n",
            "14     1.169780\n",
            "15     1.014145\n",
            "16     1.068128\n",
            "17     1.083033\n",
            "18     0.000000\n",
            "19     7.852270\n",
            "20     1.785043\n",
            "21     1.057946\n",
            "22     1.233444\n",
            "23     1.180006\n",
            "24     1.057525\n",
            "25     4.128605\n",
            "26     0.000000\n",
            "27    11.940906\n",
            "28     1.582596\n",
            "29     1.363124\n",
            "30     1.739227\n",
            "31     1.259127\n",
            "32     1.140383\n",
            "33     0.000000\n",
            "34     9.568770\n",
            "35     1.143194\n",
            "36     1.129732\n",
            "37     1.546342\n",
            "38     1.225528\n",
            "39     0.000000\n",
            "40     2.340281\n",
            "41     2.379256\n",
            "42     1.276232\n",
            "43     1.089894\n",
            "44     0.000000\n",
            "45     4.240373\n",
            "46     1.204705\n",
            "47     4.006813\n",
            "48     0.000000\n",
            "49     5.831855\n",
            "50     2.848494\n",
            "51     0.000000\n",
            "52     1.979985\n",
            "53     0.000000\n",
            "54     0.000000\n",
            "Name: LossDF, dtype: float64\n"
          ]
        }
      ]
    },
    {
      "cell_type": "code",
      "source": [
        "py_data.to_csv(\"py_data.csv\", index =True)"
      ],
      "metadata": {
        "id": "RCuWosRSynrY"
      },
      "execution_count": null,
      "outputs": []
    }
  ]
}